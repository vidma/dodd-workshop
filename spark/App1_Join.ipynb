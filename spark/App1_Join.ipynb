{
 "cells": [
  {
   "cell_type": "markdown",
   "id": "7b1c653a",
   "metadata": {},
   "source": [
    "## 1. Kensu initialisation\n",
    "\n",
    "To use the library, you need to add the kensu jar to the spark client\n",
    "\n",
    "Initialize the client with the `properties` file with its `Context`:\n",
    "- `process_name`:  the application name\n",
    "- `project_names`: where the application is running \n",
    "- `environment`: ... well"
   ]
  },
  {
   "cell_type": "code",
   "execution_count": 1,
   "id": "e3b3d82a",
   "metadata": {},
   "outputs": [],
   "source": [
    "%%init_spark\n",
    "launcher.jars = [\"libs/kensu-dam-spark-collector-0.17.2_spark-3.0.1.jar\",\"libs/sdk_2.12.jar\"]\n",
    "launcher.conf.set(\"spark.sql.shuffle.partitions\", \"1\")"
   ]
  },
  {
   "cell_type": "code",
   "execution_count": 2,
   "id": "5838e34d",
   "metadata": {},
   "outputs": [
    {
     "data": {
      "text/plain": [
       "Intitializing Scala interpreter ..."
      ]
     },
     "metadata": {},
     "output_type": "display_data"
    },
    {
     "data": {
      "text/plain": [
       "Spark Web UI available at http://jupyter-vidma-2ddodd-2dworkshop-2dqzjhyg5g:4040\n",
       "SparkContext available as 'sc' (version = 3.0.1, master = local[*], app id = local-1643981983817)\n",
       "SparkSession available as 'spark'\n"
      ]
     },
     "metadata": {},
     "output_type": "display_data"
    },
    {
     "data": {
      "text/plain": [
       "app: Int = 1\n",
       "week: Int = 1\n"
      ]
     },
     "execution_count": 2,
     "metadata": {},
     "output_type": "execute_result"
    }
   ],
   "source": [
    "val app = 1\n",
    "val week = 1"
   ]
  },
  {
   "cell_type": "code",
   "execution_count": 3,
   "id": "15185c9a",
   "metadata": {},
   "outputs": [
    {
     "name": "stdout",
     "output_type": "stream",
     "text": [
      "maybeDamFileDebugLevel: Some(INFO)\n",
      "Activating DAM debug logging to file: debug.log\n",
      "Done activating DAM debug logging to a file\n",
      "Creating a new DAM scala client actor-system\n",
      "Done creating a new DAM scala client actor-system.\n"
     ]
    },
    {
     "data": {
      "text/plain": [
       "ch: io.kensu.dodd.sdk.ConnectHelper = io.kensu.dodd.sdk.ConnectHelper@2629dfdf\n",
       "dataFolder: String = datasomeones-name\n",
       "res0: org.apache.spark.sql.SparkSession = org.apache.spark.sql.SparkSession@165419af\n"
      ]
     },
     "execution_count": 3,
     "metadata": {},
     "output_type": "execute_result"
    }
   ],
   "source": [
    "implicit val ch = new io.kensu.dodd.sdk.ConnectHelper(s\"./conf/application${app}-week${week}.properties\")\n",
    "val dataFolder = \"data\"+ch.properties(\"dam.activity.user\").toString\n",
    "io.kensu.third.integration.TimeUtils.setMockedTime(ch.properties(\"mocked.timestamp\").asInstanceOf[Long], false)\n",
    "io.kensu.dam.lineage.spark.lineage.Implicits.SparkSessionDAMWrapper(spark).track(ch.properties.get(\"dam.ingestion.url\").map(_.toString), None)(ch.properties.toList:_*)"
   ]
  },
  {
   "cell_type": "markdown",
   "id": "7d18cbd4",
   "metadata": {},
   "source": [
    " ## 2. Execution of the pipeline - App 1 : Join\n",
    " \n",
    " This application is joining data sources `customer` and `transaction`\n"
   ]
  },
  {
   "cell_type": "code",
   "execution_count": 4,
   "id": "c29c13d2",
   "metadata": {},
   "outputs": [
    {
     "data": {
      "text/plain": [
       "df_customer: org.apache.spark.sql.DataFrame = [id: int, first_name: string ... 3 more fields]\n"
      ]
     },
     "execution_count": 4,
     "metadata": {},
     "output_type": "execute_result"
    }
   ],
   "source": [
    "val df_customer = spark.read.option(\"inferSchema\",\"true\").option(\"header\",\"true\").load(s\"./data_${ch.properties(\"dam.activity.user\")}/week${week}/custinfo\")"
   ]
  },
  {
   "cell_type": "code",
   "execution_count": 5,
   "id": "496064bf",
   "metadata": {},
   "outputs": [
    {
     "data": {
      "text/plain": [
       "df_transaction: org.apache.spark.sql.DataFrame = [id: int, date: double ... 3 more fields]\n"
      ]
     },
     "execution_count": 5,
     "metadata": {},
     "output_type": "execute_result"
    }
   ],
   "source": [
    "val df_transaction = spark.read.option(\"inferSchema\",\"true\").option(\"header\",\"true\").load(s\"./data_${ch.properties(\"dam.activity.user\")}/week${week}/transactions\")"
   ]
  },
  {
   "cell_type": "code",
   "execution_count": 6,
   "id": "1e3f3d9c",
   "metadata": {},
   "outputs": [
    {
     "data": {
      "text/plain": [
       "df_join: org.apache.spark.sql.DataFrame = [id: int, first_name: string ... 7 more fields]\n"
      ]
     },
     "execution_count": 6,
     "metadata": {},
     "output_type": "execute_result"
    }
   ],
   "source": [
    "val df_join = df_customer.join(df_transaction, df_customer(\"id\") === df_transaction(\"id\"),\"inner\").drop(df_transaction(\"id\"))"
   ]
  },
  {
   "cell_type": "code",
   "execution_count": 7,
   "id": "7623e019-d30c-447b-9559-fc966ce19a39",
   "metadata": {},
   "outputs": [],
   "source": [
    "df_join.count()"
   ]
  },
  {
   "cell_type": "code",
   "execution_count": null,
   "id": "5863de6f-762d-4241-bfb0-997f49fc046c",
   "metadata": {},
   "outputs": [],
   "source": [
    "df_join.write.mode(\"overwrite\").save(s\"./data_${ch.properties(\"dam.activity.user\")}/week${week}/joined_data\")"
   ]
  },
  {
   "cell_type": "code",
   "execution_count": null,
   "id": "c155177f-fb36-490e-9365-446d24a6dd3d",
   "metadata": {},
   "outputs": [],
   "source": []
  },
  {
   "cell_type": "markdown",
   "id": "cd6bda63-c3e0-4b41-b991-11fdcec82e0e",
   "metadata": {},
   "source": [
    "## how Lineage is extracted from Spark Plan\n",
    "\n",
    "\n",
    "The spark plan is obtain by registering a Spark listener, it when notifices Kensu collector when a Spark query is being run.\n",
    "P.S. Having a plan one could reconstruct a `DataFrame` too.\n",
    "\n",
    "Below is a very quick overview of main data available in Spark query plans & some debugging available, which are close to where we can get info about the lineage."
   ]
  },
  {
   "cell_type": "code",
   "execution_count": 8,
   "id": "8ebbb3a5-6f4b-48e0-b725-c7aaf6a167a9",
   "metadata": {},
   "outputs": [
    {
     "name": "stdout",
     "output_type": "stream",
     "text": [
      "root\n",
      " |-- id: integer (nullable = true)\n",
      " |-- first_name: string (nullable = true)\n",
      " |-- last_name: string (nullable = true)\n",
      " |-- email: string (nullable = true)\n",
      " |-- gender: string (nullable = true)\n",
      "\n"
     ]
    }
   ],
   "source": [
    "\n",
    "\n",
    "df_customer.printSchema()"
   ]
  },
  {
   "cell_type": "code",
   "execution_count": 21,
   "id": "ae930e6a-30d5-4611-bc55-c7b5091551c1",
   "metadata": {},
   "outputs": [
    {
     "name": "stdout",
     "output_type": "stream",
     "text": [
      "== Parsed Logical Plan ==\n",
      "Relation[id#0,first_name#1,last_name#2,email#3,gender#4] parquet\n",
      "\n",
      "== Analyzed Logical Plan ==\n",
      "id: int, first_name: string, last_name: string, email: string, gender: string\n",
      "Relation[id#0,first_name#1,last_name#2,email#3,gender#4] parquet\n",
      "\n",
      "== Optimized Logical Plan ==\n",
      "Relation[id#0,first_name#1,last_name#2,email#3,gender#4] parquet\n",
      "\n",
      "== Physical Plan ==\n",
      "*(1) ColumnarToRow\n",
      "+- FileScan parquet [id#0,first_name#1,last_name#2,email#3,gender#4] Batched: true, DataFilters: [], Format: Parquet, Location: InMemoryFileIndex[file:/home/jovyan/spark/data_someones-name/week1/custinfo], PartitionFilters: [], PushedFilters: [], ReadSchema: struct<id:int,first_name:string,last_name:string,email:string,gender:string>\n",
      "\n"
     ]
    }
   ],
   "source": [
    "// this prints the query plans (pased, analyzed, logical, optimized, physical, ...)\n",
    "println(df_customer.queryExecution.toString)"
   ]
  },
  {
   "cell_type": "code",
   "execution_count": 20,
   "id": "def695d8-db4d-45a6-8ef9-e4a3754bf370",
   "metadata": {},
   "outputs": [
    {
     "name": "stdout",
     "output_type": "stream",
     "text": [
      "== Parsed Logical Plan ==\n",
      "Project [id#0, first_name#1, last_name#2, email#3, gender#4, date#11, product#12, price#13, quantity#14]\n",
      "+- Join Inner, (id#0 = id#10)\n",
      "   :- Relation[id#0,first_name#1,last_name#2,email#3,gender#4] parquet\n",
      "   +- Relation[id#10,date#11,product#12,price#13,quantity#14] parquet\n",
      "\n",
      "== Analyzed Logical Plan ==\n",
      "id: int, first_name: string, last_name: string, email: string, gender: string, date: double, product: string, price: double, quantity: int\n",
      "Project [id#0, first_name#1, last_name#2, email#3, gender#4, date#11, product#12, price#13, quantity#14]\n",
      "+- Join Inner, (id#0 = id#10)\n",
      "   :- Relation[id#0,first_name#1,last_name#2,email#3,gender#4] parquet\n",
      "   +- Relation[id#10,date#11,product#12,price#13,quantity#14] parquet\n",
      "\n",
      "== Optimized Logical Plan ==\n",
      "Project [id#0, first_name#1, last_name#2, email#3, gender#4, date#11, product#12, price#13, quantity#14]\n",
      "+- Join Inner, (id#0 = id#10)\n",
      "   :- Filter isnotnull(id#0)\n",
      "   :  +- Relation[id#0,first_name#1,last_name#2,email#3,gender#4] parquet\n",
      "   +- Filter isnotnull(id#10)\n",
      "      +- Relation[id#10,date#11,product#12,price#13,quantity#14] parquet\n",
      "\n",
      "== Physical Plan ==\n",
      "*(2) Project [id#0, first_name#1, last_name#2, email#3, gender#4, date#11, product#12, price#13, quantity#14]\n",
      "+- *(2) BroadcastHashJoin [id#0], [id#10], Inner, BuildRight\n",
      "   :- *(2) Project [id#0, first_name#1, last_name#2, email#3, gender#4]\n",
      "   :  +- *(2) Filter isnotnull(id#0)\n",
      "   :     +- *(2) ColumnarToRow\n",
      "   :        +- FileScan parquet [id#0,first_name#1,last_name#2,email#3,gender#4] Batched: true, DataFilters: [isnotnull(id#0)], Format: Parquet, Location: InMemoryFileIndex[file:/home/jovyan/spark/data_someones-name/week1/custinfo], PartitionFilters: [], PushedFilters: [IsNotNull(id)], ReadSchema: struct<id:int,first_name:string,last_name:string,email:string,gender:string>\n",
      "   +- BroadcastExchange HashedRelationBroadcastMode(List(cast(input[0, int, true] as bigint))), [id=#119]\n",
      "      +- *(1) Project [id#10, date#11, product#12, price#13, quantity#14]\n",
      "         +- *(1) Filter isnotnull(id#10)\n",
      "            +- *(1) ColumnarToRow\n",
      "               +- FileScan parquet [id#10,date#11,product#12,price#13,quantity#14] Batched: true, DataFilters: [isnotnull(id#10)], Format: Parquet, Location: InMemoryFileIndex[file:/home/jovyan/spark/data_someones-name/week1/transactions], PartitionFilters: [], PushedFilters: [IsNotNull(id)], ReadSchema: struct<id:int,date:double,product:string,price:double,quantity:int>\n",
      "\n"
     ]
    }
   ],
   "source": [
    "println(df_join.queryExecution.toString)"
   ]
  },
  {
   "cell_type": "markdown",
   "id": "cfe29141-7f2b-4da5-956d-5fced2959e71",
   "metadata": {},
   "source": [
    "Spark Plan tree parsing/interpretation\n",
    "====\n",
    "\n",
    "Parsing/interpretation of *Spark plan tree* depends on the actual operations used, but in very generic case for each node:\n",
    "\n",
    "- node.children : which are prerequisites to compute output of this Project operator\n",
    "- node.output : output attribute ids\n",
    "- node.references : input attribute ids\n",
    "- some specific variables of the specific tree node (Join, Project, etc), thse sometimes can be private (meaning we need to use reflection to access the value)"
   ]
  },
  {
   "cell_type": "code",
   "execution_count": 30,
   "id": "0ef70cbf-4ce4-4f08-b09e-2bca71f704ba",
   "metadata": {},
   "outputs": [
    {
     "name": "stdout",
     "output_type": "stream",
     "text": [
      "Project [id#0, first_name#1, last_name#2, email#3, gender#4, date#11, product#12, price#13, quantity#14]\n",
      "+- Join Inner, (id#0 = id#10)\n",
      "   :- Relation[id#0,first_name#1,last_name#2,email#3,gender#4] parquet\n",
      "   +- Relation[id#10,date#11,product#12,price#13,quantity#14] parquet\n",
      "\n"
     ]
    }
   ],
   "source": [
    "println(df_join.queryExecution.logical)"
   ]
  },
  {
   "cell_type": "code",
   "execution_count": 42,
   "id": "151411ab-91cf-4ef1-b87d-ec4613e91e5d",
   "metadata": {},
   "outputs": [
    {
     "name": "stdout",
     "output_type": "stream",
     "text": [
      "List(id#0, first_name#1, last_name#2, email#3, gender#4, date#11, product#12, price#13, quantity#14)\n"
     ]
    },
    {
     "data": {
      "text/plain": [
       "treeNode: org.apache.spark.sql.catalyst.plans.logical.LogicalPlan =\n",
       "Project [id#0, first_name#1, last_name#2, email#3, gender#4, date#11, product#12, price#13, quantity#14]\n",
       "+- Join Inner, (id#0 = id#10)\n",
       "   :- Relation[id#0,first_name#1,last_name#2,email#3,gender#4] parquet\n",
       "   +- Relation[id#10,date#11,product#12,price#13,quantity#14] parquet\n"
      ]
     },
     "execution_count": 42,
     "metadata": {},
     "output_type": "execute_result"
    }
   ],
   "source": [
    "// taking root node, Project:\n",
    "val treeNode = df_join.queryExecution.logical // project\n",
    "// output attr ids\n",
    "println(treeNode.output)"
   ]
  },
  {
   "cell_type": "code",
   "execution_count": 43,
   "id": "b6f64f69-0b26-4225-8cd2-768937e54803",
   "metadata": {},
   "outputs": [
    {
     "name": "stdout",
     "output_type": "stream",
     "text": [
      "List(Join Inner, (id#0 = id#10)\n",
      ":- Relation[id#0,first_name#1,last_name#2,email#3,gender#4] parquet\n",
      "+- Relation[id#10,date#11,product#12,price#13,quantity#14] parquet\n",
      ")\n"
     ]
    }
   ],
   "source": [
    "// children, which are prerequisites to compute output of this Project operator\n",
    "println(treeNode.children)"
   ]
  },
  {
   "cell_type": "code",
   "execution_count": 44,
   "id": "1c6b24b6-8c06-415b-92f7-3fa70421a811",
   "metadata": {},
   "outputs": [],
   "source": [
    "println(treeNode.references)"
   ]
  },
  {
   "cell_type": "code",
   "execution_count": 48,
   "id": "f4569578-51f4-4e25-95fa-2645bc2265c0",
   "metadata": {},
   "outputs": [
    {
     "name": "stdout",
     "output_type": "stream",
     "text": [
      "Join Inner, (id#0 = id#10)\n",
      ":- Relation[id#0,first_name#1,last_name#2,email#3,gender#4] parquet\n",
      "+- Relation[id#10,date#11,product#12,price#13,quantity#14] parquet\n",
      "\n",
      "references:\n",
      "{id#0, id#10}\n",
      "output:\n",
      "List(id#0, first_name#1, last_name#2, email#3, gender#4, id#10, date#11, product#12, price#13, quantity#14)\n"
     ]
    },
    {
     "data": {
      "text/plain": [
       "joinTreeNode: org.apache.spark.sql.catalyst.plans.logical.LogicalPlan =\n",
       "Join Inner, (id#0 = id#10)\n",
       ":- Relation[id#0,first_name#1,last_name#2,email#3,gender#4] parquet\n",
       "+- Relation[id#10,date#11,product#12,price#13,quantity#14] parquet\n"
      ]
     },
     "execution_count": 48,
     "metadata": {},
     "output_type": "execute_result"
    }
   ],
   "source": [
    "val joinTreeNode = df_customer.join(df_transaction, df_customer(\"id\") === df_transaction(\"id\"),\"inner\")\n",
    "  .queryExecution.logical\n",
    "\n",
    "\n",
    "println(joinTreeNode)\n",
    "// HERE you can see that join references more attributes than in the output\n",
    "println(\"references:\")\n",
    "println(joinTreeNode.references)\n",
    "println(\"output:\")\n",
    "println(joinTreeNode.output)"
   ]
  }
 ],
 "metadata": {
  "kernelspec": {
   "display_name": "spylon-kernel",
   "language": "scala",
   "name": "spylon-kernel"
  },
  "language_info": {
   "codemirror_mode": "text/x-scala",
   "file_extension": ".scala",
   "help_links": [
    {
     "text": "MetaKernel Magics",
     "url": "https://metakernel.readthedocs.io/en/latest/source/README.html"
    }
   ],
   "mimetype": "text/x-scala",
   "name": "scala",
   "pygments_lexer": "scala",
   "version": "0.4.1"
  }
 },
 "nbformat": 4,
 "nbformat_minor": 5
}
