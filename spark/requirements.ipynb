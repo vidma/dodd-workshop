{
 "cells": [
  {
   "cell_type": "code",
   "execution_count": null,
   "metadata": {},
   "outputs": [],
   "source": [
    "from utils import create_properties_files\n",
    "import shutil\n",
    "\n",
    "\n",
    "trainee_name = \"someones-name\"\n",
    "\n",
    "kensu_url = \"\"\n",
    "kensu_token = \"\"\n",
    "\n",
    "\n",
    "pat = \"\"\n",
    "sdk_url =  \"\"\n",
    "\n",
    "\n",
    "create_properties_files(trainee_name,kensu_url,kensu_token,pat,sdk_url, offline=True)\n",
    "shutil.move(\"./data\", \"./data_\"+trainee_name)"
   ]
  }
 ],
 "metadata": {
  "kernelspec": {
   "display_name": "Python 3",
   "language": "python",
   "name": "python3"
  },
  "language_info": {
   "codemirror_mode": {
    "name": "ipython",
    "version": 3
   },
   "file_extension": ".py",
   "mimetype": "text/x-python",
   "name": "python",
   "nbconvert_exporter": "python",
   "pygments_lexer": "ipython3",
   "version": "3.7.6"
  }
 },
 "nbformat": 4,
 "nbformat_minor": 5
}
